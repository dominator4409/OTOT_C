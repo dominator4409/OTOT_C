{
 "cells": [
  {
   "cell_type": "code",
   "execution_count": 8,
   "metadata": {},
   "outputs": [
    {
     "data": {
      "application/vnd.jupyter.widget-view+json": {
       "model_id": "dcf64ce456424489852ec210d46e1939",
       "version_major": 2,
       "version_minor": 0
      },
      "text/plain": [
       "interactive(children=(Dropdown(description='Pollutant:', options=('NO', 'NO2', 'NOX', 'SO2', 'PM2.5', 'CO', 'O…"
      ]
     },
     "metadata": {},
     "output_type": "display_data"
    }
   ],
   "source": [
    "import matplotlib.pyplot as plt\n",
    "import pandas as pd\n",
    "import ipywidgets as widgets\n",
    "from IPython.display import display\n",
    "\n",
    "def plot_pollutant_trends_interactive(data):\n",
    "    \"\"\"\n",
    "    Creates an interactive plot for pollutant trends with a dropdown to select the pollutant.\n",
    "    \"\"\"\n",
    "    \n",
    "    pollutants = data['Pollutant'].unique()\n",
    "    \n",
    "    def update_plot(pollutant):\n",
    "        plt.clf()\n",
    "        plot_pollutant_trends(data, pollutant)\n",
    "    \n",
    "    pollutant_selector = widgets.Dropdown(\n",
    "        options=pollutants,\n",
    "        value=pollutants[0],\n",
    "        description='Pollutant:',\n",
    "        disabled=False,\n",
    "    )\n",
    "    \n",
    "    interactive_plot = widgets.interactive(update_plot, pollutant=pollutant_selector)\n",
    "    display(interactive_plot)\n",
    "\n",
    "def plot_pollutant_trends(data, pollutant):\n",
    "    \"\"\"\n",
    "    Plots the trend of a specific pollutant over time.\n",
    "    \"\"\"\n",
    "    data['Last Updated'] = pd.to_datetime(data['Last Updated'], errors='coerce')\n",
    "    pollutant_data = data[data['Pollutant'] == pollutant]\n",
    "    if 'Value' in pollutant_data.columns:\n",
    "        daily_avg = pollutant_data.resample('D', on='Last Updated')['Value'].mean().dropna()\n",
    "        plt.figure(figsize=(15, 7))\n",
    "        plt.plot(daily_avg.index, daily_avg, marker='o', linestyle='-', color='blue')\n",
    "        plt.title(f'Global Daily Average {pollutant} Concentration Trends')\n",
    "        plt.xlabel('Date')\n",
    "        plt.ylabel(f'Average {pollutant} Concentration (ppm)')\n",
    "        plt.xticks(rotation=45)\n",
    "        plt.grid(True)\n",
    "        plt.show()\n",
    "    else:\n",
    "        print(\"The specified pollutant data does not contain a 'Value' column for analysis.\")\n",
    "\n",
    "# Load the data\n",
    "data_path = 'C:\\\\Users\\\\mrtan\\\\Desktop\\\\OTOT_C\\\\world_air_quality.csv'\n",
    "air_quality_data = pd.read_csv(data_path, sep=';', on_bad_lines='skip')\n",
    "air_quality_data = air_quality_data[air_quality_data['Value'] >= 0]\n",
    "\n",
    "# Create interactive plot\n",
    "plot_pollutant_trends_interactive(air_quality_data)\n",
    "\n",
    "\n"
   ]
  }
 ],
 "metadata": {
  "kernelspec": {
   "display_name": "Python 3",
   "language": "python",
   "name": "python3"
  },
  "language_info": {
   "codemirror_mode": {
    "name": "ipython",
    "version": 3
   },
   "file_extension": ".py",
   "mimetype": "text/x-python",
   "name": "python",
   "nbconvert_exporter": "python",
   "pygments_lexer": "ipython3",
   "version": "3.11.8"
  }
 },
 "nbformat": 4,
 "nbformat_minor": 2
}
