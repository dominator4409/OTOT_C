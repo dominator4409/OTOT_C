{
 "cells": [
  {
   "cell_type": "code",
   "execution_count": 1,
   "metadata": {},
   "outputs": [
    {
     "data": {
      "application/vnd.jupyter.widget-view+json": {
       "model_id": "f5d27526e2a24a84afedd4966e287a31",
       "version_major": 2,
       "version_minor": 0
      },
      "text/plain": [
       "interactive(children=(Dropdown(description='Pollutant:', options=('NO', 'NO2', 'NOX', 'SO2', 'PM2.5', 'CO', 'O…"
      ]
     },
     "metadata": {},
     "output_type": "display_data"
    }
   ],
   "source": [
    "import pandas as pd\n",
    "import matplotlib.pyplot as plt\n",
    "import seaborn as sns\n",
    "import ipywidgets as widgets\n",
    "from IPython.display import display\n",
    "\n",
    "data_path = 'C:\\\\Users\\\\mrtan\\\\Desktop\\\\OTOT_C\\\\world_air_quality.csv'  \n",
    "air_quality_data = pd.read_csv(data_path, sep=';')\n",
    "\n",
    "def visualize_pollutant(pollutant_filter, top_n=10):\n",
    "    \"\"\"\n",
    "    Visualize the top N countries with the highest average pollution levels\n",
    "    for a specific pollutant in the dataset.\n",
    "    \n",
    "    Parameters:\n",
    "    - pollutant_filter: The specific pollutant to visualize.\n",
    "    - top_n: The number of top countries to display.\n",
    "    \"\"\"\n",
    "    # Filter by the specified pollutant\n",
    "    filtered_data = air_quality_data[air_quality_data['Pollutant'] == pollutant_filter]\n",
    "    \n",
    "    # Calculate the average pollution value by country for the specified pollutant\n",
    "    country_avg_pollution = filtered_data.groupby('Country Label')['Value'].mean().sort_values(ascending=False)\n",
    "    \n",
    "    # Select the top N countries with the highest average pollution level\n",
    "    top_countries = country_avg_pollution.head(top_n)\n",
    "    \n",
    "    # Plotting\n",
    "    plt.figure(figsize=(12, 8))\n",
    "    sns.barplot(x=top_countries.values, y=top_countries.index, palette=\"coolwarm\")\n",
    "    plt.title(f'Top {top_n} Countries with Highest Average {pollutant_filter} Level')\n",
    "    plt.xlabel('Average Pollution Value (ppm)')\n",
    "    plt.ylabel('Country')\n",
    "    plt.grid(axis='x')\n",
    "    plt.show()\n",
    "\n",
    "pollutant_selector = widgets.Dropdown(\n",
    "    options=air_quality_data['Pollutant'].unique(),\n",
    "    value=air_quality_data['Pollutant'].unique()[0],\n",
    "    description='Pollutant:',\n",
    ")\n",
    "\n",
    "interactive_visualization = widgets.interactive(visualize_pollutant, pollutant_filter=pollutant_selector, top_n=widgets.fixed(10))\n",
    "display(interactive_visualization)"
   ]
  }
 ],
 "metadata": {
  "kernelspec": {
   "display_name": "Python 3",
   "language": "python",
   "name": "python3"
  },
  "language_info": {
   "codemirror_mode": {
    "name": "ipython",
    "version": 3
   },
   "file_extension": ".py",
   "mimetype": "text/x-python",
   "name": "python",
   "nbconvert_exporter": "python",
   "pygments_lexer": "ipython3",
   "version": "3.11.8"
  }
 },
 "nbformat": 4,
 "nbformat_minor": 2
}
